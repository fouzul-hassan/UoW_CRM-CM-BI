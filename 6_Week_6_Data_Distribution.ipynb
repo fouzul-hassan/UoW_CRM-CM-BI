{
  "nbformat": 4,
  "nbformat_minor": 0,
  "metadata": {
    "colab": {
      "provenance": []
    },
    "kernelspec": {
      "name": "python3",
      "display_name": "Python 3"
    },
    "language_info": {
      "name": "python"
    }
  },
  "cells": [
    {
      "cell_type": "markdown",
      "source": [
        "Arithmetic Mean"
      ],
      "metadata": {
        "id": "w4ltspB6YzCY"
      }
    },
    {
      "cell_type": "code",
      "execution_count": null,
      "metadata": {
        "colab": {
          "base_uri": "https://localhost:8080/"
        },
        "id": "ialD7jgjYDXM",
        "outputId": "1e547674-da1a-4cf2-f62d-cd0e7225ec7e"
      },
      "outputs": [
        {
          "output_type": "stream",
          "name": "stdout",
          "text": [
            "Arithmetic Mean: 1600.0\n"
          ]
        }
      ],
      "source": [
        "import numpy as np\n",
        "\n",
        "# Data\n",
        "metabolic_rates = [1792, 1666, 1362, 1614, 1460, 1867, 1439]\n",
        "\n",
        "# Arithmetic Mean\n",
        "mean = np.mean(metabolic_rates)\n",
        "print(f\"Arithmetic Mean: {mean}\")\n"
      ]
    },
    {
      "cell_type": "markdown",
      "source": [
        "Median"
      ],
      "metadata": {
        "id": "7ChjxNJ0Y40E"
      }
    },
    {
      "cell_type": "code",
      "source": [
        "# Median\n",
        "median = np.median(metabolic_rates)\n",
        "print(f\"Median: {median}\")\n"
      ],
      "metadata": {
        "colab": {
          "base_uri": "https://localhost:8080/"
        },
        "id": "ATWNc5mrYFYh",
        "outputId": "a1a6b794-3d07-4154-f784-086fe9e2128b"
      },
      "execution_count": null,
      "outputs": [
        {
          "output_type": "stream",
          "name": "stdout",
          "text": [
            "Median: 1614.0\n"
          ]
        }
      ]
    },
    {
      "cell_type": "markdown",
      "source": [
        "3. Quartiles and Interquartile Range (IQR)"
      ],
      "metadata": {
        "id": "vallxG09Y6qi"
      }
    },
    {
      "cell_type": "code",
      "source": [
        "# Quartiles\n",
        "q1 = np.percentile(metabolic_rates, 25)\n",
        "q3 = np.percentile(metabolic_rates, 75)\n",
        "iqr = q3 - q1\n",
        "\n",
        "print(f\"Q1 (25th percentile): {q1}\")\n",
        "print(f\"Q3 (75th percentile): {q3}\")\n",
        "print(f\"Interquartile Range (IQR): {iqr}\")\n"
      ],
      "metadata": {
        "colab": {
          "base_uri": "https://localhost:8080/"
        },
        "id": "oZqz7cqFYI6K",
        "outputId": "86a519fe-4637-4631-e9dd-80e16a700e7e"
      },
      "execution_count": null,
      "outputs": [
        {
          "output_type": "stream",
          "name": "stdout",
          "text": [
            "Q1 (25th percentile): 1449.5\n",
            "Q3 (75th percentile): 1729.0\n",
            "Interquartile Range (IQR): 279.5\n"
          ]
        }
      ]
    },
    {
      "cell_type": "markdown",
      "source": [
        "4. Five-Point Summary"
      ],
      "metadata": {
        "id": "sFpHeFoyZDM1"
      }
    },
    {
      "cell_type": "code",
      "source": [
        "# Five-Point Summary\n",
        "min_val = np.min(metabolic_rates)\n",
        "max_val = np.max(metabolic_rates)\n",
        "\n",
        "five_point_summary = {\n",
        "    \"Min\": min_val,\n",
        "    \"Q1\": q1,\n",
        "    \"Median\": median,\n",
        "    \"Q3\": q3,\n",
        "    \"Max\": max_val\n",
        "}\n",
        "\n",
        "print(\"Five-Point Summary:\", five_point_summary)\n"
      ],
      "metadata": {
        "colab": {
          "base_uri": "https://localhost:8080/"
        },
        "id": "FTACcP4mYL6q",
        "outputId": "48d101db-34bd-4f3e-a6a4-393286ed5d84"
      },
      "execution_count": null,
      "outputs": [
        {
          "output_type": "stream",
          "name": "stdout",
          "text": [
            "Five-Point Summary: {'Min': 1362, 'Q1': 1449.5, 'Median': 1614.0, 'Q3': 1729.0, 'Max': 1867}\n"
          ]
        }
      ]
    },
    {
      "cell_type": "markdown",
      "source": [
        "5. Variance and Standard Deviation"
      ],
      "metadata": {
        "id": "aSpyS3BGZFvW"
      }
    },
    {
      "cell_type": "code",
      "source": [
        "# Variance and Standard Deviation\n",
        "variance = np.var(metabolic_rates, ddof=1)  # ddof=1 for sample variance\n",
        "std_dev = np.sqrt(variance)\n",
        "\n",
        "print(f\"Variance: {variance}\")\n",
        "print(f\"Standard Deviation: {std_dev}\")\n"
      ],
      "metadata": {
        "colab": {
          "base_uri": "https://localhost:8080/"
        },
        "id": "dA5pLRE4YODW",
        "outputId": "b4726867-2bab-49da-b4c6-39dfed80ae3e"
      },
      "execution_count": null,
      "outputs": [
        {
          "output_type": "stream",
          "name": "stdout",
          "text": [
            "Variance: 35811.666666666664\n",
            "Standard Deviation: 189.23970689753952\n"
          ]
        }
      ]
    },
    {
      "cell_type": "markdown",
      "source": [
        "6. Skewness Impact Example"
      ],
      "metadata": {
        "id": "tdo6Xq9wZNvJ"
      }
    },
    {
      "cell_type": "code",
      "source": [
        "# Skewness Impact Example\n",
        "skewed_data = [1362, 1439, 1460, 1614, 1666, 1792, 9867]\n",
        "\n",
        "# Mean and Median Comparison\n",
        "mean_skewed = np.mean(skewed_data)\n",
        "median_skewed = np.median(skewed_data)\n",
        "\n",
        "print(f\"Mean (with skew): {mean_skewed}\")\n",
        "print(f\"Median (with skew): {median_skewed}\")\n"
      ],
      "metadata": {
        "colab": {
          "base_uri": "https://localhost:8080/"
        },
        "id": "bIcblgb0YQfI",
        "outputId": "1339eec9-e1da-43e6-8bb8-0d4a61b96c95"
      },
      "execution_count": null,
      "outputs": [
        {
          "output_type": "stream",
          "name": "stdout",
          "text": [
            "Mean (with skew): 2742.8571428571427\n",
            "Median (with skew): 1614.0\n"
          ]
        }
      ]
    },
    {
      "cell_type": "markdown",
      "source": [
        "7. Boxplot Visualization"
      ],
      "metadata": {
        "id": "LwJIZuNOZRch"
      }
    },
    {
      "cell_type": "code",
      "source": [
        "import matplotlib.pyplot as plt\n",
        "\n",
        "# Boxplot for Visualization\n",
        "plt.boxplot(metabolic_rates, vert=False, patch_artist=True, showmeans=True)\n",
        "plt.title(\"Boxplot of Metabolic Rates\")\n",
        "plt.xlabel(\"Calories per Day\")\n",
        "plt.show()\n"
      ],
      "metadata": {
        "colab": {
          "base_uri": "https://localhost:8080/",
          "height": 472
        },
        "id": "l9mXOelYYSsa",
        "outputId": "dfae232e-fa70-4314-d3f1-9c49b9c4e166"
      },
      "execution_count": null,
      "outputs": [
        {
          "output_type": "display_data",
          "data": {
            "text/plain": [
              "<Figure size 640x480 with 1 Axes>"
            ],
            "image/png": "[encoded data removed]"
          },
          "metadata": {}
        }
      ]
    },
    {
      "cell_type": "markdown",
      "source": [
        "8. Symmetrical vs. Skewed Distributions"
      ],
      "metadata": {
        "id": "Od0zdZVSYZiI"
      }
    },
    {
      "cell_type": "code",
      "source": [
        "# Example data\n",
        "symmetrical_data = [10, 20, 30, 40, 50]\n",
        "skewed_data = [1, 2, 3, 4, 50]\n",
        "\n",
        "# Symmetrical\n",
        "sym_mean = np.mean(symmetrical_data)\n",
        "sym_std = np.std(symmetrical_data, ddof=1)\n",
        "\n",
        "# Skewed\n",
        "skew_mean = np.mean(skewed_data)\n",
        "skew_std = np.std(skewed_data, ddof=1)\n",
        "\n",
        "print(f\"Symmetrical - Mean: {sym_mean}, Std Dev: {sym_std}\")\n",
        "print(f\"Skewed - Mean: {skew_mean}, Std Dev: {skew_std}\")\n"
      ],
      "metadata": {
        "colab": {
          "base_uri": "https://localhost:8080/"
        },
        "id": "yto4fi2UYWxD",
        "outputId": "2c09d210-eddd-4a62-82b6-f7b6c0c63603"
      },
      "execution_count": null,
      "outputs": [
        {
          "output_type": "stream",
          "name": "stdout",
          "text": [
            "Symmetrical - Mean: 30.0, Std Dev: 15.811388300841896\n",
            "Skewed - Mean: 12.0, Std Dev: 21.27204738618265\n"
          ]
        }
      ]
    },
    {
      "cell_type": "markdown",
      "source": [
        "# Usecase"
      ],
      "metadata": {
        "id": "1zRr45zNZe2W"
      }
    },
    {
      "cell_type": "markdown",
      "source": [
        "Creating a dataset with python for explanation"
      ],
      "metadata": {
        "id": "CJkFcm6SZ3q-"
      }
    },
    {
      "cell_type": "code",
      "source": [
        "import numpy as np\n",
        "\n",
        "# Generate a dataset of study hours\n",
        "np.random.seed(42)  # For reproducibility\n",
        "study_hours = np.random.randint(5, 40, size=30)\n",
        "print(\"Dataset (Study Hours):\", study_hours)"
      ],
      "metadata": {
        "colab": {
          "base_uri": "https://localhost:8080/"
        },
        "id": "vxFCHy74YcGV",
        "outputId": "25a19bbe-6f29-4111-b305-ccccb74a5d58"
      },
      "execution_count": null,
      "outputs": [
        {
          "output_type": "stream",
          "name": "stdout",
          "text": [
            "Dataset (Study Hours): [33 19 12 25 23 27 15 15 28 28  7 26  6 28 34  6 25 37 16 26 29 31 32 20\n",
            " 19  7 11 25 13 22]\n"
          ]
        }
      ]
    },
    {
      "cell_type": "markdown",
      "source": [
        "Step 2: Calculate the Arithmetic Mean\n",
        "Formula: Mean = Sum of all values / Number of values"
      ],
      "metadata": {
        "id": "zaFB7UJ_Z7N0"
      }
    },
    {
      "cell_type": "code",
      "source": [
        "mean = np.mean(study_hours)\n",
        "print(f\"Arithmetic Mean: {mean}\")"
      ],
      "metadata": {
        "colab": {
          "base_uri": "https://localhost:8080/"
        },
        "id": "jNGHoIOnZ7kr",
        "outputId": "6053acba-291e-4c12-89b7-2f2754e4095d"
      },
      "execution_count": null,
      "outputs": [
        {
          "output_type": "stream",
          "name": "stdout",
          "text": [
            "Arithmetic Mean: 21.5\n"
          ]
        }
      ]
    },
    {
      "cell_type": "markdown",
      "source": [
        "Why calculate the mean?\n",
        "The mean provides the average value of the dataset. It’s a measure of central location, offering insights into the overall study trend.\n",
        "\n",
        "Interpretation:\n",
        "The mean study hours tell us the average time students spend studying weekly."
      ],
      "metadata": {
        "id": "4UtEkf4raTFt"
      }
    },
    {
      "cell_type": "markdown",
      "source": [
        "Step 3: Calculate the Median"
      ],
      "metadata": {
        "id": "FuL_8gSwaVjD"
      }
    },
    {
      "cell_type": "markdown",
      "source": [
        "Steps:\n",
        "\n",
        "Sort the dataset.\n",
        "Find the middle value (or average of two middle values"
      ],
      "metadata": {
        "id": "N8qi9WZibISc"
      }
    },
    {
      "cell_type": "code",
      "source": [
        "median = np.median(study_hours)\n",
        "print(f\"Median: {median}\")\n"
      ],
      "metadata": {
        "id": "A1xfd5hoaVwy",
        "colab": {
          "base_uri": "https://localhost:8080/"
        },
        "outputId": "33c3291e-cdba-4be2-d262-43fb2b487ca8"
      },
      "execution_count": null,
      "outputs": [
        {
          "output_type": "stream",
          "name": "stdout",
          "text": [
            "Median: 24.0\n"
          ]
        }
      ]
    },
    {
      "cell_type": "markdown",
      "source": [
        "Why calculate the median?\n",
        "The median is robust to outliers. While the mean can be skewed by extreme values, the median represents the central value in a sorted dataset.\n",
        "\n",
        "Interpretation:\n",
        "The median indicates that half the students study fewer hours than this value, and the other half study more."
      ],
      "metadata": {
        "id": "AV0Is0zQbNYp"
      }
    },
    {
      "cell_type": "markdown",
      "source": [],
      "metadata": {
        "id": "mfzgJtEKbJBs"
      }
    },
    {
      "cell_type": "markdown",
      "source": [
        "Step 4: Quartiles and Interquartile Range (IQR)\n",
        "Steps:\n",
        "\n",
        "Divide the dataset into four equal parts.\n",
        "Find Q1 (25th percentile), Q3 (75th percentile), and compute the IQR."
      ],
      "metadata": {
        "id": "Cu5qYCtdbP1K"
      }
    },
    {
      "cell_type": "code",
      "source": [
        "q1 = np.percentile(study_hours, 25)\n",
        "q3 = np.percentile(study_hours, 75)\n",
        "iqr = q3 - q1\n",
        "\n",
        "print(f\"Q1 (25th percentile): {q1}\")\n",
        "print(f\"Q3 (75th percentile): {q3}\")\n",
        "print(f\"Interquartile Range (IQR): {iqr}\")\n"
      ],
      "metadata": {
        "colab": {
          "base_uri": "https://localhost:8080/"
        },
        "id": "zGpNyAGUbQ8P",
        "outputId": "a5753813-c5d7-4971-c8ee-12ff9028a15d"
      },
      "execution_count": null,
      "outputs": [
        {
          "output_type": "stream",
          "name": "stdout",
          "text": [
            "Q1 (25th percentile): 15.0\n",
            "Q3 (75th percentile): 28.0\n",
            "Interquartile Range (IQR): 13.0\n"
          ]
        }
      ]
    },
    {
      "cell_type": "markdown",
      "source": [
        "Why calculate quartiles and IQR?\n",
        "Quartiles divide the data into sections, showing where most data points lie. The IQR measures the spread of the middle 50%, highlighting variability while ignoring outliers.\n",
        "\n",
        "Interpretation:\n",
        "The IQR tells us how much study times vary for the central half of students, while Q1 and Q3 identify lower and upper bounds for most data points."
      ],
      "metadata": {
        "id": "QvX3bNCwbSjw"
      }
    },
    {
      "cell_type": "markdown",
      "source": [
        "Step 5: Five-Point Summary\n",
        "Five Values: Min, Q1, Median, Q3, Max"
      ],
      "metadata": {
        "id": "lp9DeSrKbUkw"
      }
    },
    {
      "cell_type": "code",
      "source": [
        "min_val = np.min(study_hours)\n",
        "max_val = np.max(study_hours)\n",
        "\n",
        "five_point_summary = {\n",
        "    \"Min\": min_val,\n",
        "    \"Q1\": q1,\n",
        "    \"Median\": median,\n",
        "    \"Q3\": q3,\n",
        "    \"Max\": max_val\n",
        "}\n",
        "print(\"Five-Point Summary:\", five_point_summary)\n"
      ],
      "metadata": {
        "colab": {
          "base_uri": "https://localhost:8080/"
        },
        "id": "k2xPqKO_bWj2",
        "outputId": "05a82c89-3137-479a-d21d-5f53c0fa60b6"
      },
      "execution_count": null,
      "outputs": [
        {
          "output_type": "stream",
          "name": "stdout",
          "text": [
            "Five-Point Summary: {'Min': 6, 'Q1': 15.0, 'Median': 24.0, 'Q3': 28.0, 'Max': 37}\n"
          ]
        }
      ]
    },
    {
      "cell_type": "markdown",
      "source": [
        "Why calculate the five-point summary?\n",
        "It provides a quick overview of the dataset’s spread and central tendency.\n",
        "\n",
        "Interpretation:\n",
        "The five-point summary helps identify the range of study hours and the core distribution.\n",
        "\n"
      ],
      "metadata": {
        "id": "e5X1LtPJbXG5"
      }
    },
    {
      "cell_type": "markdown",
      "source": [
        "Step 6: Variance and Standard Deviation\n",
        "Formulas:\n",
        "\n",
        "Variance = Mean of squared deviations from the mean.\n",
        "Standard deviation = Square root of variance."
      ],
      "metadata": {
        "id": "vVYU89hDbZg1"
      }
    },
    {
      "cell_type": "code",
      "source": [
        "variance = np.var(study_hours, ddof=1)\n",
        "std_dev = np.sqrt(variance)\n",
        "\n",
        "print(f\"Variance: {variance}\")\n",
        "print(f\"Standard Deviation: {std_dev}\")\n"
      ],
      "metadata": {
        "colab": {
          "base_uri": "https://localhost:8080/"
        },
        "id": "kmr5pZdabbST",
        "outputId": "1d40d996-a80c-4234-9b73-04ddcb9bf758"
      },
      "execution_count": null,
      "outputs": [
        {
          "output_type": "stream",
          "name": "stdout",
          "text": [
            "Variance: 80.1896551724138\n",
            "Standard Deviation: 8.954867680340888\n"
          ]
        }
      ]
    },
    {
      "cell_type": "markdown",
      "source": [
        "Why calculate variance and standard deviation?\n",
        "These metrics quantify spread. While variance shows how far values deviate from the mean, the standard deviation translates this into the same units as the original data.\n",
        "\n",
        "Interpretation:\n",
        "A high standard deviation indicates wide variability in study hours, while a low value suggests consistency."
      ],
      "metadata": {
        "id": "o1ds1aAdbc0G"
      }
    },
    {
      "cell_type": "markdown",
      "source": [
        "Step 7: Skewness Impact Example\n",
        "We add an extreme value to show skewness and its impact on the mean and median."
      ],
      "metadata": {
        "id": "vb94zav4behZ"
      }
    },
    {
      "cell_type": "code",
      "source": [
        "skewed_hours = np.append(study_hours, 100)  # Adding an outlier\n",
        "mean_skewed = np.mean(skewed_hours)\n",
        "median_skewed = np.median(skewed_hours)\n",
        "\n",
        "print(f\"Mean (Skewed): {mean_skewed}\")\n",
        "print(f\"Median (Skewed): {median_skewed}\")\n"
      ],
      "metadata": {
        "colab": {
          "base_uri": "https://localhost:8080/"
        },
        "id": "LOavNiWLbhXe",
        "outputId": "99b226a9-5c3d-4c13-936e-922f74b2daa7"
      },
      "execution_count": null,
      "outputs": [
        {
          "output_type": "stream",
          "name": "stdout",
          "text": [
            "Mean (Skewed): 24.032258064516128\n",
            "Median (Skewed): 25.0\n"
          ]
        }
      ]
    },
    {
      "cell_type": "markdown",
      "source": [
        "Why explore skewness?\n",
        "Skewness shows how outliers affect central tendency metrics. The mean is sensitive to outliers, while the median remains robust.\n",
        "\n",
        "Interpretation:\n",
        "A large positive outlier pulls the mean upward, misrepresenting the dataset's typical behavior. The median remains unchanged."
      ],
      "metadata": {
        "id": "2esIxv8NbgqS"
      }
    },
    {
      "cell_type": "markdown",
      "source": [
        "Step 8: Boxplot Visualization\n",
        "Visualize the distribution, highlighting skewness, median, and quartiles."
      ],
      "metadata": {
        "id": "qMQhoy_HbkIw"
      }
    },
    {
      "cell_type": "code",
      "source": [
        "import matplotlib.pyplot as plt\n",
        "\n",
        "plt.boxplot(study_hours, vert=False, patch_artist=True, showmeans=True)\n",
        "plt.title(\"Boxplot of Study Hours\")\n",
        "plt.xlabel(\"Hours\")\n",
        "plt.show()\n"
      ],
      "metadata": {
        "colab": {
          "base_uri": "https://localhost:8080/",
          "height": 472
        },
        "id": "9aywnKVFblmx",
        "outputId": "b7aae4d9-0436-42a6-f1d7-71c0ac7183a6"
      },
      "execution_count": null,
      "outputs": [
        {
          "output_type": "display_data",
          "data": {
            "text/plain": [
              "<Figure size 640x480 with 1 Axes>"
            ],
            "image/png": "[encoded data removed]"
          },
          "metadata": {}
        }
      ]
    },
    {
      "cell_type": "markdown",
      "source": [
        "Why use a boxplot?\n",
        "Boxplots graphically show the five-point summary, identify outliers, and visualize data symmetry or skewness.\n",
        "\n",
        "Interpretation:\n",
        "The boxplot reveals data spread, central clustering, and potential outliers."
      ],
      "metadata": {
        "id": "RtofzefCbpII"
      }
    },
    {
      "cell_type": "markdown",
      "source": [
        "Step 9: Symmetrical vs. Skewed Distributions\n",
        "Compare symmetrical and skewed distributions to highlight metric selection."
      ],
      "metadata": {
        "id": "WBPQ-R2qbp_Y"
      }
    },
    {
      "cell_type": "code",
      "source": [
        "symmetrical_data = np.random.normal(20, 5, 30)  # Symmetrical\n",
        "skewed_data = np.append(study_hours, 100)       # Skewed\n",
        "\n",
        "sym_mean, sym_std = np.mean(symmetrical_data), np.std(symmetrical_data, ddof=1)\n",
        "skew_mean, skew_std = np.mean(skewed_data), np.std(skewed_data, ddof=1)\n",
        "\n",
        "print(f\"Symmetrical - Mean: {sym_mean}, Std Dev: {sym_std}\")\n",
        "print(f\"Skewed - Mean: {skew_mean}, Std Dev: {skew_std}\")\n"
      ],
      "metadata": {
        "colab": {
          "base_uri": "https://localhost:8080/"
        },
        "id": "41awzkUYbsdP",
        "outputId": "5228a7c6-1f08-49fc-8921-ba9193554c9b"
      },
      "execution_count": null,
      "outputs": [
        {
          "output_type": "stream",
          "name": "stdout",
          "text": [
            "Symmetrical - Mean: 20.00794070421101, Std Dev: 4.850730000547983\n",
            "Skewed - Mean: 24.032258064516128, Std Dev: 16.622241868387754\n"
          ]
        }
      ]
    },
    {
      "cell_type": "markdown",
      "source": [
        "Why compare?\n",
        "Symmetry determines which summary statistics to use. The mean and standard deviation work best for symmetrical data, while the median and IQR are better for skewed data.\n",
        "\n",
        "Interpretation:\n",
        "For symmetrical data, the mean and standard deviation accurately describe location and spread. For skewed data, use the median and IQR to avoid outlier influence."
      ],
      "metadata": {
        "id": "M8sVgD4Wbt8x"
      }
    },
    {
      "cell_type": "markdown",
      "source": [
        "For more\n",
        "\n",
        "https://seaborn.pydata.org/tutorial/distributions.html\n",
        "\n",
        "https://mode.com/python-tutorial/python-histograms-boxplots-and-distributions\n",
        "\n",
        "https://medium.com/@patil.manojkumar/probability-distributions-in-python-a-practical-guide-for-beginners-3164f198a398\n",
        "\n",
        "What is Skewness?\n",
        "https://yashowardhanshinde.medium.com/what-is-skewness-in-data-how-to-fix-skewed-data-in-python-a792e98c0fa6\n",
        "\n",
        "https://machinelearningmastery.com/skewness-be-gone-transformative-tricks-for-data-scientists/\n",
        "\n",
        "https://www.kaggle.com/code/aimack/how-to-handle-skewed-distribution\n"
      ],
      "metadata": {
        "id": "lowY7Vk9bsAc"
      }
    },
    {
      "cell_type": "code",
      "source": [],
      "metadata": {
        "id": "tXsTLc1dbnCO"
      },
      "execution_count": null,
      "outputs": []
    }
  ]
}